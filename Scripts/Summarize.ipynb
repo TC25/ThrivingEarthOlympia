{
 "cells": [
  {
   "cell_type": "code",
   "execution_count": 27,
   "id": "8503884f",
   "metadata": {},
   "outputs": [],
   "source": [
    "#Author: TC (tc)\n",
    "\n",
    "import os\n",
    "import pandas as pd\n",
    "\n",
    "# Folder containing the CSV files\n",
    "folder_x = \"..\\Raw_data\"\n",
    "\n",
    "# Folder to save the combined data\n",
    "folder_y = \"..\\Summaries\"\n",
    "\n",
    "# Read all CSV files in folder_x\n",
    "csv_files = [file for file in os.listdir(folder_x) if file.endswith(\".csv\")]\n",
    "\n",
    "# Initialize an empty DataFrame to store the combined data\n",
    "combined_data = pd.DataFrame()\n",
    "\n",
    "# Iterate over each CSV file\n",
    "for file in csv_files:\n",
    "    # Read the CSV file\n",
    "    file_path = os.path.join(folder_x, file)\n",
    "    data = pd.read_csv(file_path, encoding= 'unicode_escape', skiprows=range(0, 14))\n",
    "\n",
    "    # Combine data with the existing DataFrame\n",
    "    combined_data = pd.concat([combined_data, data])\n",
    "\n",
    "# Convert the 'Date/Time' column to datetime\n",
    "combined_data['Date/Time'] = pd.to_datetime(combined_data['Date/Time'])    \n",
    "    \n",
    "# Drop duplicate rows based on 'Date/Time' column\n",
    "combined_data.drop_duplicates(subset='Date/Time', inplace=True)\n",
    "\n",
    "# Sort the combined data by 'Date/Time'\n",
    "combined_data.sort_values('Date/Time', inplace=True)\n",
    "\n",
    "# Save the combined data to folder_y\n",
    "combined_data.to_csv(os.path.join(folder_y, 'combined_data.csv'), index=False)"
   ]
  }
 ],
 "metadata": {
  "kernelspec": {
   "display_name": "Python 3 (ipykernel)",
   "language": "python",
   "name": "python3"
  },
  "language_info": {
   "codemirror_mode": {
    "name": "ipython",
    "version": 3
   },
   "file_extension": ".py",
   "mimetype": "text/x-python",
   "name": "python",
   "nbconvert_exporter": "python",
   "pygments_lexer": "ipython3",
   "version": "3.9.13"
  }
 },
 "nbformat": 4,
 "nbformat_minor": 5
}
